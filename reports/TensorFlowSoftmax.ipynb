{
 "cells": [
  {
   "cell_type": "markdown",
   "metadata": {},
   "source": [
    "# Logistic Regression with TensorFlow\n",
    "\n",
    "## Libraries\n",
    "\n",
    "The libraries used to image load and processing are,\n",
    "\n",
    "* `imageio`\n",
    "* `OpenCV (cv2)`\n",
    "* `Numpy`\n",
    "* `matplotlib` to plot results in order to depurate things\n",
    "\n",
    "Which will be used in the helper functions shown on a section below.\n",
    "\n",
    "\n",
    "# Helper functions\n",
    "\n",
    "In order to load the images from the annotations file `gt.txt` I needed a set of helper functions.\n",
    "The doc-strings on the functions are self-explanatory, but in summary,\n",
    "\n",
    "* `annotation_parser` : extracts information from an annotation word  \n",
    "* `get_annotated_ROI` : gets the ROI for a given annotation  \n",
    "* `create_data_set_from_annotations` : generates a shuffled data set reading from an annotations file  \n",
    "* `split_data` : splits the data into two batches, for training and testing.  "
   ]
  },
  {
   "cell_type": "code",
   "execution_count": 1,
   "metadata": {},
   "outputs": [
    {
     "name": "stderr",
     "output_type": "stream",
     "text": [
      "/usr/local/lib/python3.5/dist-packages/h5py/__init__.py:36: FutureWarning: Conversion of the second argument of issubdtype from `float` to `np.floating` is deprecated. In future, it will be treated as `np.float64 == np.dtype(float).type`.\n",
      "  from ._conv import register_converters as _register_converters\n"
     ]
    }
   ],
   "source": [
    "import tensorflow as tf\n",
    "\n",
    "# Set parameters\n",
    "learning_rate = 0.005\n",
    "training_iteration = 100\n",
    "batch_size = 121#244 #122\n",
    "display_step = 10\n",
    "test_size = 0.2\n",
    "\n",
    "input_image_shape = (32,32)"
   ]
  },
  {
   "cell_type": "code",
   "execution_count": 2,
   "metadata": {},
   "outputs": [],
   "source": [
    "import os\n",
    "import cv2\n",
    "import imageio\n",
    "import numpy as np\n",
    "from sklearn.utils import shuffle\n",
    "\n",
    "def annotation_parser(annotation, sep=\";\"):\n",
    "    \"\"\"\n",
    "    anotation_parser extracts information of the ROI for a single annotation\n",
    "    \n",
    "    Input\n",
    "    -----\n",
    "    - annotation(string): The annotation for a single image\n",
    "    - sep(string): The separator for the annotations. (default \";\")\n",
    "    \n",
    "    Returns\n",
    "    -------\n",
    "    - filename(string): The name of the file corresponding to the annotation\n",
    "    - left_column(int): Coordinates for left column of the ROI\n",
    "    - top_row(int): Coordinates of the top row of the ROI\n",
    "    - right_column(int): Coordinates of the left column of the ROI\n",
    "    - bottom_row(int): Coordinates of the bottom row of the ROI\n",
    "    - category(int): The numerical category the image in the ROI belongs to\n",
    "    \n",
    "    \"\"\"\n",
    "    filename, left_column, top_row, right_column, bottom_row, category = annotation.split(sep)\n",
    "    return filename, int(left_column), int(top_row), int(right_column), int(bottom_row), int(category)    \n",
    "\n",
    "\n",
    "def get_annotated_ROI(annotation, path=\"FullIJCNN2013\", as_gray=True, sep=\";\"):\n",
    "    \"\"\"\n",
    "    get_annotated_ROI returns the ROI(an array) provided an annotation (string)\n",
    "    \n",
    "    Input\n",
    "    -----\n",
    "    - annotation(string): The annotation for a single image\n",
    "    - path(string): Path containing the image files\n",
    "    - as_gray(bool): If the image is loaded as RGB or Grayscale\n",
    "    - sep(string): The separator for the annotations. (default \";\")\n",
    "    \n",
    "    Returns\n",
    "    -------\n",
    "    - img(numpy.array): The ROI\n",
    "    - category(int): The numerical category the image in the ROI belongs to\n",
    "    \"\"\"\n",
    "    image_file, left_column, top_row, right_column, bottom_row, cat = annotation_parser(annotation, sep)\n",
    "    image_file = os.path.join(path, image_file)\n",
    "    img = imageio.imread(image_file, as_gray=as_gray)\n",
    "    return img[top_row:top_row+(right_column-left_column),left_column:left_column+(bottom_row-top_row)].copy(), cat\n",
    "\n",
    "\n",
    "def create_data_set_from_annotations(annotations_file, path=\"FullIJCNN2013\", as_gray=True, target_shape = input_image_shape, sep=\";\"):\n",
    "    \"\"\"\n",
    "    create_data_set_from_annotations Generates a shuffled dataset of ROIs (X) and their labels (y)\n",
    "    provided an annotations_file corresponding to the german traffic sings dataset\n",
    "    \n",
    "    Input\n",
    "    -----\n",
    "    - annotation_file(string): The name of annotations file\n",
    "    - path(string): Path containing the annotations file\n",
    "    - as_gray(bool): If the image is loaded as RGB or Grayscale\n",
    "    - target_shape(tuple): Tuple with the expected size of each of the output ROIs'\n",
    "    - sep(string): The separator for the annotations. (default \";\")\n",
    "    \n",
    "    Returns\n",
    "    -------\n",
    "    - X(numpy.array): Array of ROIs, one for each index\n",
    "    - y(numpy.array): Array of labels corresponding to each of the ROIs on X\n",
    "    \"\"\"\n",
    "    X = list()\n",
    "    y = list()\n",
    "    the_file = os.path.join(path, annotations_file)\n",
    "    with open(the_file, \"r\") as annf:\n",
    "        for line in annf:\n",
    "            img, cat = get_annotated_ROI(line, path, as_gray, sep)\n",
    "            img = cv2.resize(img, target_shape)\n",
    "            img = img.flatten() # To get flat arrays of the image\n",
    "            X.append(img) \n",
    "            y.append(cat)\n",
    "            \n",
    "    X, y = np.array(X), np.array(y)\n",
    "    X, y = shuffle(X, y)\n",
    "    return X, y\n",
    "\n",
    "\n",
    "def split_data(Xo, yo, test_size=test_size):\n",
    "    \"\"\"\n",
    "    split_data splits the data set X, y in two sets train_data, test_data and, train_labels, test_labels\n",
    "    where the amount of elements of the second set correspond to the `test_size`\n",
    "    percent of the amount of X, y\n",
    "    \n",
    "    Input\n",
    "    -----\n",
    "    - X(numpy.array): Array of features\n",
    "    - y(numpy.array): Array of labels\n",
    "    - test_size(float): Percentage of split(defalt 0.2)\n",
    "    \n",
    "    Returns\n",
    "    -------\n",
    "    - train_data(numpy.array) features to train\n",
    "    - test_data(numpy.array) features to test\n",
    "    - train_labels(numpy.array) labels of train_data\n",
    "    - test_labels(numpy.array) labels of test_data\n",
    "    \n",
    "    \"\"\"\n",
    "    data_size = len(Xo)\n",
    "    X, y = shuffle(Xo, yo)\n",
    "    if (len(y) == data_size and test_size*data_size <= data_size) and (test_size <= 1.0):\n",
    "        train_sz = int((1-test_size)*data_size)\n",
    "        test_sz = int(test_size*data_size)\n",
    "        \n",
    "        train_data = np.zeros((train_sz,) + X.shape[1:])\n",
    "        train_labels = np.zeros(train_sz)\n",
    "        test_data = np.zeros((test_sz,) + X.shape[1:])\n",
    "        test_labels = np.zeros(test_sz)\n",
    "        \n",
    "        for e in range(train_sz):\n",
    "            index = np.random.randint(data_size)\n",
    "            train_data[e] = X[index]\n",
    "            train_labels[e] = y[index]\n",
    "            \n",
    "        for e in range(test_sz):\n",
    "            index = np.random.randint(data_size)\n",
    "            test_data[e] = X[index]\n",
    "            test_labels[e] = y[index]\n",
    "            \n",
    "        return train_data, test_data, train_labels, test_labels\n",
    "    else:\n",
    "        print(\"Size miss_match\")\n",
    "        return Xo, yo, Xo, yo\n",
    "\n",
    "\n",
    "def generate_data_batch(batch_size, features, labels, unique_labels):\n",
    "    features_qty = len(features)\n",
    "        \n",
    "    if batch_size <= features_qty:\n",
    "        \n",
    "        labels_mapping = dict()\n",
    "        clases_qty = len(unique_labels)\n",
    "        ft_shape = features[0].shape\n",
    "        \n",
    "        # Generate a dictionary with the mapping of each unique_labels\n",
    "        for cls_idx in range(clases_qty):\n",
    "            labels_mapping[unique_labels[cls_idx]] = cls_idx\n",
    "            \n",
    "        \n",
    "        the_batch_features = np.zeros((batch_size,) + ft_shape)\n",
    "        the_batch_labels = np.zeros((batch_size, clases_qty))\n",
    "        \n",
    "        for i in range(batch_size):\n",
    "            index = np.random.randint(features_qty)\n",
    "            \n",
    "            the_batch_features[i] = features[index]\n",
    "            \n",
    "            the_label = np.zeros(clases_qty)\n",
    "            the_label[labels_mapping[labels[index]]] = 1.0\n",
    "            \n",
    "            the_batch_labels[i] = the_label\n",
    "            \n",
    "            # Shuffe the array a bit\n",
    "            the_batch_features, the_batch_labels = shuffle(the_batch_features, the_batch_labels)\n",
    "        \n",
    "        return the_batch_features, the_batch_labels, labels_mapping\n",
    "\n",
    "    else:\n",
    "        return features, labels, None"
   ]
  },
  {
   "cell_type": "markdown",
   "metadata": {},
   "source": [
    "# Lets tests that the functions work"
   ]
  },
  {
   "cell_type": "code",
   "execution_count": 3,
   "metadata": {},
   "outputs": [
    {
     "name": "stdout",
     "output_type": "stream",
     "text": [
      "[0. 4.] [[0. 0. 0. 0. 0. 0.]\n",
      " [0. 0. 0. 0. 0. 1.]] {2: 0, 3: 1, 4: 2, 6: 3, 23: 5, 11: 4}\n"
     ]
    }
   ],
   "source": [
    "ft = np.array([1,2,3,4,5,6])\n",
    "cls = np.array([2,3,6,23,11,4])\n",
    "a, b, lm = generate_data_batch(2, ft, cls, np.array(list(set(cls))))\n",
    "print(a,b,lm)"
   ]
  },
  {
   "cell_type": "code",
   "execution_count": 4,
   "metadata": {},
   "outputs": [
    {
     "data": {
      "text/plain": [
       "(2,)"
      ]
     },
     "execution_count": 4,
     "metadata": {},
     "output_type": "execute_result"
    }
   ],
   "source": [
    "a.shape"
   ]
  },
  {
   "cell_type": "code",
   "execution_count": 5,
   "metadata": {},
   "outputs": [
    {
     "data": {
      "text/plain": [
       "(2, 6)"
      ]
     },
     "execution_count": 5,
     "metadata": {},
     "output_type": "execute_result"
    }
   ],
   "source": [
    "b.shape"
   ]
  },
  {
   "cell_type": "code",
   "execution_count": 6,
   "metadata": {},
   "outputs": [],
   "source": [
    "X, y = create_data_set_from_annotations(\"gt.txt\")\n",
    "\n",
    "unique_labels = np.array(list(set(y)))"
   ]
  },
  {
   "cell_type": "code",
   "execution_count": 7,
   "metadata": {},
   "outputs": [
    {
     "data": {
      "text/plain": [
       "(1213, 1024)"
      ]
     },
     "execution_count": 7,
     "metadata": {},
     "output_type": "execute_result"
    }
   ],
   "source": [
    "X.shape"
   ]
  },
  {
   "cell_type": "code",
   "execution_count": 8,
   "metadata": {},
   "outputs": [
    {
     "data": {
      "text/plain": [
       "1024"
      ]
     },
     "execution_count": 8,
     "metadata": {},
     "output_type": "execute_result"
    }
   ],
   "source": [
    "data_shape = X[0].shape[0]\n",
    "data_shape"
   ]
  },
  {
   "cell_type": "code",
   "execution_count": 9,
   "metadata": {},
   "outputs": [
    {
     "data": {
      "text/plain": [
       "43"
      ]
     },
     "execution_count": 9,
     "metadata": {},
     "output_type": "execute_result"
    }
   ],
   "source": [
    "number_of_clases = len(set(y))\n",
    "number_of_clases"
   ]
  },
  {
   "cell_type": "code",
   "execution_count": 10,
   "metadata": {},
   "outputs": [],
   "source": [
    "def split_data(X, y, test_size=0.2):\n",
    "    data_size = len(X)\n",
    "    if len(y) == data_size and test_size*data_size <= data_size:\n",
    "        train_sz = int((1-test_size)*data_size)\n",
    "        test_sz = int(test_size*data_size)\n",
    "        \n",
    "        train_data = np.zeros((train_sz,) + X.shape[1:])\n",
    "        train_labels = np.zeros(train_sz)\n",
    "        test_data = np.zeros((test_sz,) + X.shape[1:])\n",
    "        test_labels = np.zeros(test_sz)\n",
    "        \n",
    "        for e in range(train_sz):\n",
    "            index = np.random.randint(data_size)\n",
    "            train_data[e] = X[index]\n",
    "            train_labels[e] = y[index]\n",
    "            \n",
    "        for e in range(test_sz):\n",
    "            index = np.random.randint(data_size)\n",
    "            test_data[e] = X[index]\n",
    "            test_labels[e] = y[index]\n",
    "            \n",
    "        return train_data, test_data, train_labels, test_labels\n",
    "    else:\n",
    "        print(\"Size miss_match\")\n",
    "        return X, y, X, y"
   ]
  },
  {
   "cell_type": "code",
   "execution_count": 11,
   "metadata": {},
   "outputs": [],
   "source": [
    "X_train, X_test, y_train, y_test = split_data(X, y, test_size=test_size)\n",
    "\n",
    "n_train_samples = len(X_train)"
   ]
  },
  {
   "cell_type": "code",
   "execution_count": 12,
   "metadata": {},
   "outputs": [
    {
     "data": {
      "text/plain": [
       "(970, 1024)"
      ]
     },
     "execution_count": 12,
     "metadata": {},
     "output_type": "execute_result"
    }
   ],
   "source": [
    "X_train.shape"
   ]
  },
  {
   "cell_type": "code",
   "execution_count": 13,
   "metadata": {
    "scrolled": true
   },
   "outputs": [
    {
     "data": {
      "text/plain": [
       "(970,)"
      ]
     },
     "execution_count": 13,
     "metadata": {},
     "output_type": "execute_result"
    }
   ],
   "source": [
    "y_train.shape"
   ]
  },
  {
   "cell_type": "code",
   "execution_count": 14,
   "metadata": {},
   "outputs": [],
   "source": [
    "X_test, y_test, _ = generate_data_batch(len(X_test), X_test, y_test, unique_labels)"
   ]
  },
  {
   "cell_type": "code",
   "execution_count": 15,
   "metadata": {},
   "outputs": [
    {
     "data": {
      "text/plain": [
       "(242, 1024)"
      ]
     },
     "execution_count": 15,
     "metadata": {},
     "output_type": "execute_result"
    }
   ],
   "source": [
    "X_test.shape"
   ]
  },
  {
   "cell_type": "code",
   "execution_count": 16,
   "metadata": {
    "scrolled": true
   },
   "outputs": [
    {
     "data": {
      "text/plain": [
       "(242, 43)"
      ]
     },
     "execution_count": 16,
     "metadata": {},
     "output_type": "execute_result"
    }
   ],
   "source": [
    "y_test.shape"
   ]
  },
  {
   "cell_type": "code",
   "execution_count": 17,
   "metadata": {},
   "outputs": [],
   "source": [
    "# TF graph input (the flattened images)\n",
    "x = tf.placeholder(tf.float32, [None, data_shape])"
   ]
  },
  {
   "cell_type": "code",
   "execution_count": 18,
   "metadata": {},
   "outputs": [],
   "source": [
    "# Create a model\n",
    "\n",
    "# Set model weights\n",
    "W = tf.Variable(tf.zeros([data_shape, number_of_clases]))\n",
    "b = tf.Variable(tf.zeros([number_of_clases]))\n",
    "\n",
    "# To implement cross_entropy, here we store the correct answers\n",
    "y_ = tf.placeholder(tf.float32, [None, number_of_clases])"
   ]
  },
  {
   "cell_type": "code",
   "execution_count": 19,
   "metadata": {
    "scrolled": true
   },
   "outputs": [
    {
     "data": {
      "text/plain": [
       "TensorShape([Dimension(None), Dimension(1024)])"
      ]
     },
     "execution_count": 19,
     "metadata": {},
     "output_type": "execute_result"
    }
   ],
   "source": [
    "x.shape"
   ]
  },
  {
   "cell_type": "code",
   "execution_count": 20,
   "metadata": {},
   "outputs": [
    {
     "data": {
      "text/plain": [
       "TensorShape([Dimension(None), Dimension(43)])"
      ]
     },
     "execution_count": 20,
     "metadata": {},
     "output_type": "execute_result"
    }
   ],
   "source": [
    "y_.shape"
   ]
  },
  {
   "cell_type": "code",
   "execution_count": 21,
   "metadata": {},
   "outputs": [
    {
     "data": {
      "text/plain": [
       "TensorShape([Dimension(1024), Dimension(43)])"
      ]
     },
     "execution_count": 21,
     "metadata": {},
     "output_type": "execute_result"
    }
   ],
   "source": [
    "W.shape"
   ]
  },
  {
   "cell_type": "code",
   "execution_count": 22,
   "metadata": {},
   "outputs": [
    {
     "data": {
      "text/plain": [
       "TensorShape([Dimension(43)])"
      ]
     },
     "execution_count": 22,
     "metadata": {},
     "output_type": "execute_result"
    }
   ],
   "source": [
    "b.shape"
   ]
  },
  {
   "cell_type": "code",
   "execution_count": 23,
   "metadata": {},
   "outputs": [
    {
     "name": "stdout",
     "output_type": "stream",
     "text": [
      "WARNING:tensorflow:From <ipython-input-23-ea675062c561>:7: softmax_cross_entropy_with_logits (from tensorflow.python.ops.nn_ops) is deprecated and will be removed in a future version.\n",
      "Instructions for updating:\n",
      "\n",
      "Future major versions of TensorFlow will allow gradients to flow\n",
      "into the labels input on backprop by default.\n",
      "\n",
      "See @{tf.nn.softmax_cross_entropy_with_logits_v2}.\n",
      "\n"
     ]
    }
   ],
   "source": [
    "# Construct a linear y `y = x*W + b`\n",
    "#y = tf.nn.softmax(tf.matmul(x, W) + b) # Softmax\n",
    "y = tf.matmul(x, W) + b # Softmax\n",
    "\n",
    "# Numerically more stable softmax \n",
    "cost_function = tf.reduce_mean(\n",
    "    tf.nn.softmax_cross_entropy_with_logits(labels=y_, logits=y))"
   ]
  },
  {
   "cell_type": "code",
   "execution_count": 24,
   "metadata": {},
   "outputs": [
    {
     "data": {
      "text/plain": [
       "TensorShape([Dimension(None), Dimension(43)])"
      ]
     },
     "execution_count": 24,
     "metadata": {},
     "output_type": "execute_result"
    }
   ],
   "source": [
    "y.shape"
   ]
  },
  {
   "cell_type": "code",
   "execution_count": 25,
   "metadata": {},
   "outputs": [
    {
     "data": {
      "text/plain": [
       "TensorShape([])"
      ]
     },
     "execution_count": 25,
     "metadata": {},
     "output_type": "execute_result"
    }
   ],
   "source": [
    "cost_function.shape"
   ]
  },
  {
   "cell_type": "code",
   "execution_count": 26,
   "metadata": {},
   "outputs": [],
   "source": [
    "# Gradient Descent\n",
    "optimizer = tf.train.GradientDescentOptimizer(learning_rate).minimize(cost_function)"
   ]
  },
  {
   "cell_type": "code",
   "execution_count": 27,
   "metadata": {},
   "outputs": [],
   "source": [
    "batch_xs, batch_ys, _ = generate_data_batch(5, X_train, y_train, unique_labels)"
   ]
  },
  {
   "cell_type": "code",
   "execution_count": 28,
   "metadata": {},
   "outputs": [
    {
     "data": {
      "text/plain": [
       "(5, 1024)"
      ]
     },
     "execution_count": 28,
     "metadata": {},
     "output_type": "execute_result"
    }
   ],
   "source": [
    "batch_xs.shape"
   ]
  },
  {
   "cell_type": "code",
   "execution_count": 29,
   "metadata": {},
   "outputs": [
    {
     "data": {
      "text/plain": [
       "(5, 43)"
      ]
     },
     "execution_count": 29,
     "metadata": {},
     "output_type": "execute_result"
    }
   ],
   "source": [
    "batch_ys.shape"
   ]
  },
  {
   "cell_type": "code",
   "execution_count": 30,
   "metadata": {},
   "outputs": [
    {
     "data": {
      "image/png": "[encoded data removed]",
      "text/plain": [
       "<Figure size 432x288 with 1 Axes>"
      ]
     },
     "metadata": {},
     "output_type": "display_data"
    }
   ],
   "source": [
    "import imageio\n",
    "import matplotlib.pyplot as plt\n",
    "%matplotlib inline\n",
    "\n",
    "#taken from https://spettijohn.files.wordpress.com/2015/06/speed-limit-60.jpg\n",
    "test_img = imageio.imread(\"speed-limit-60.jpg\",as_gray=True)\n",
    "\n",
    "plt.imshow(test_img[180:1410,550:1570])\n",
    "plt.show()"
   ]
  },
  {
   "cell_type": "code",
   "execution_count": 31,
   "metadata": {},
   "outputs": [
    {
     "data": {
      "text/plain": [
       "(1230, 1020)"
      ]
     },
     "execution_count": 31,
     "metadata": {},
     "output_type": "execute_result"
    }
   ],
   "source": [
    "tsing = test_img[180:1410,550:1570]\n",
    "tsing.shape"
   ]
  },
  {
   "cell_type": "code",
   "execution_count": 32,
   "metadata": {},
   "outputs": [
    {
     "data": {
      "text/plain": [
       "(32, 32)"
      ]
     },
     "execution_count": 32,
     "metadata": {},
     "output_type": "execute_result"
    }
   ],
   "source": [
    "tsing = cv2.resize(tsing, input_image_shape)\n",
    "tsing.shape"
   ]
  },
  {
   "cell_type": "code",
   "execution_count": 33,
   "metadata": {
    "scrolled": true
   },
   "outputs": [
    {
     "data": {
      "image/png": "[encoded data removed]",
      "text/plain": [
       "<Figure size 432x288 with 1 Axes>"
      ]
     },
     "metadata": {},
     "output_type": "display_data"
    }
   ],
   "source": [
    "plt.imshow(tsing)\n",
    "plt.show()"
   ]
  },
  {
   "cell_type": "code",
   "execution_count": 34,
   "metadata": {},
   "outputs": [
    {
     "data": {
      "text/plain": [
       "(1024,)"
      ]
     },
     "execution_count": 34,
     "metadata": {},
     "output_type": "execute_result"
    }
   ],
   "source": [
    "tsing = tsing.flatten()\n",
    "tsing.shape"
   ]
  },
  {
   "cell_type": "code",
   "execution_count": 35,
   "metadata": {
    "scrolled": false
   },
   "outputs": [
    {
     "name": "stdout",
     "output_type": "stream",
     "text": [
      "Iteration: 0001 cost= 4611.140167236\n",
      "Iteration: 0011 cost= 959.125801086\n",
      "Iteration: 0021 cost= 495.924866676\n",
      "Iteration: 0031 cost= 36.116332531\n",
      "Iteration: 0041 cost= 55.252310634\n",
      "Iteration: 0051 cost= 34.750697672\n",
      "Iteration: 0061 cost= 23.708188657\n",
      "Iteration: 0071 cost= 22.900276721\n",
      "Iteration: 0081 cost= 0.792744780\n",
      "Iteration: 0091 cost= 0.595338558\n",
      "Training complete!\n",
      "Let's see the score:\n",
      "The measured error is 0.1860465109348297\n",
      "The measured accuracy is 0.8139534890651703\n",
      "The classification of test image was [[-1346.6428    2472.8875   -2042.8157    -786.40607    -81.05525\n",
      "   -197.06564   -597.49304   -436.48935  -1268.586    -2698.5093\n",
      "  -1243.6361    -267.64685   3703.8948     844.08057   1215.8628\n",
      "  -1323.3911    -348.56122   1375.3123     -14.211073   356.0759\n",
      "   -157.16605    948.28033    191.90604    133.21556    826.042\n",
      "   -837.07104     57.44279    487.08176    536.21344     19.474583\n",
      "   -491.54047  -1080.7119     732.9885     -72.30217    486.1768\n",
      "    449.86133    671.42596  -1080.7119    1516.9832     172.55501\n",
      "    -86.28606  -1080.7119     339.81503 ]]\n"
     ]
    }
   ],
   "source": [
    "init = tf.global_variables_initializer()\n",
    "\n",
    "# Launch the graph\n",
    "with tf.Session() as sess:\n",
    "    sess.run(init)\n",
    "    \n",
    "    # Training loop\n",
    "    for iteration in range(training_iteration):\n",
    "        avg_result = 0.\n",
    "        total_batch = int(n_train_samples/batch_size)\n",
    "        #print(\"Iteration {}/{} with a total batch of {}\".format(iteration, training_iteration, total_batch))\n",
    "        for i in range(total_batch):\n",
    "            batch_xs, batch_ys, labelings = generate_data_batch(batch_size, X_train, y_train, unique_labels)\n",
    "            assert batch_xs.shape[0] == batch_ys.shape[0]\n",
    "\n",
    "            \n",
    "            sess.run(optimizer, feed_dict={x: batch_xs, y_: batch_ys})\n",
    "            \n",
    "            avg_result += sess.run(cost_function, feed_dict={x: batch_xs, y_: batch_ys})/total_batch\n",
    "            #print(\"Accumulated cost{}\",avg_cost)\n",
    "        # Display logs per eiteration step\n",
    "        if iteration % display_step == 0:\n",
    "            print(\"Iteration:\", '%04d' % (iteration + 1), \"cost=\", \"{:.9f}\".format(avg_result))\n",
    "    \n",
    "    print(\"Training complete!\")\n",
    "    \n",
    "    print(\"Let's see the score:\")\n",
    "    #correct_prediction = tf.equal(tf.argmax(y,1), tf.argmax(y_,1))\n",
    "    correct_prediction = tf.equal(tf.argmax(y,0), tf.argmax(y_,0))\n",
    "    accuracy = tf.reduce_mean(tf.cast(correct_prediction, tf.float32))\n",
    "    error_ = sess.run(accuracy, feed_dict={x: X_test, y_: y_test})\n",
    "    print(\"The measured error is {}\".format(error_))\n",
    "    print(\"The measured accuracy is {}\".format(1-error_))\n",
    "    \n",
    "    classification = sess.run(y, feed_dict={x:[tsing]})\n",
    "    print(\"The classification of test image was {}\".format(classification))\n",
    "    # Test the model\n",
    "    #predictions = tf.equal(tf.argmax(y, 1), tf.argmax(y_, 1))\n",
    "    # Calculate accuracy\n",
    "    #accuracy = tf.reduce_mean(tf.cast(predictions, tf.float32))\n",
    "    #print(\"Accuracy:\", accuracy.eval({x: X_test, y_: y_test}))"
   ]
  },
  {
   "cell_type": "code",
   "execution_count": 36,
   "metadata": {},
   "outputs": [],
   "source": [
    "cat_dict = {0 : \" speed limit 20 (prohibitory)\",\n",
    "1 : \" speed limit 30 (prohibitory)\",\n",
    "2 : \" speed limit 50 (prohibitory)\",\n",
    "3 : \" speed limit 60 (prohibitory)\",\n",
    "4 : \" speed limit 70 (prohibitory)\",\n",
    "5 : \" speed limit 80 (prohibitory)\",\n",
    "6 : \" restriction ends 80 (other)\",\n",
    "7 : \" speed limit 100 (prohibitory)\",\n",
    "8 : \" speed limit 120 (prohibitory)\",\n",
    "9 : \" no overtaking (prohibitory)\",\n",
    "10 : \" no overtaking (trucks) (prohibitory)\",\n",
    "11 : \" priority at next intersection (danger)\",\n",
    "12 : \" priority road (other)\",\n",
    "13 : \" give way (other)\",\n",
    "14 : \" stop (other)\",\n",
    "15 : \" no traffic both ways (prohibitory)\",\n",
    "16 : \" no trucks (prohibitory)\",\n",
    "17 : \" no entry (other)\",\n",
    "18 : \" danger (danger)\",\n",
    "19 : \" bend left (danger)\",\n",
    "20 : \" bend right (danger)\",\n",
    "21 : \" bend (danger)\",\n",
    "22 : \" uneven road (danger)\",\n",
    "23 : \" slippery road (danger)\",\n",
    "24 : \" road narrows (danger)\",\n",
    "25 : \" construction (danger)\",\n",
    "26 : \" traffic signal (danger)\",\n",
    "27 : \" pedestrian crossing (danger)\",\n",
    "28 : \" school crossing (danger)\",\n",
    "29 : \" cycles crossing (danger)\",\n",
    "30 : \" snow (danger)\",\n",
    "31 : \" animals (danger)\",\n",
    "32 : \" restriction ends (other)\",\n",
    "33 : \" go right (mandatory)\",\n",
    "34 : \" go left (mandatory)\",\n",
    "35 : \" go straight (mandatory)\",\n",
    "36 : \" go right or straight (mandatory)\",\n",
    "37 : \" go left or straight (mandatory)\",\n",
    "38 : \" keep right (mandatory)\",\n",
    "39 : \" keep left (mandatory)\",\n",
    "40 : \" roundabout (mandatory)\",\n",
    "41 : \" restriction ends (overtaking) (other)\",\n",
    "42 : \" restriction ends (overtaking (trucks)) (other)\"}"
   ]
  },
  {
   "cell_type": "code",
   "execution_count": 37,
   "metadata": {},
   "outputs": [
    {
     "data": {
      "text/plain": [
       "' priority road (other)'"
      ]
     },
     "execution_count": 37,
     "metadata": {},
     "output_type": "execute_result"
    }
   ],
   "source": [
    "clfdict = {v:k for k,v in labelings.items()}\n",
    "cat_dict[clfdict[np.argmax(classification)]]"
   ]
  },
  {
   "cell_type": "code",
   "execution_count": 38,
   "metadata": {},
   "outputs": [
    {
     "data": {
      "text/plain": [
       "(1, 43)"
      ]
     },
     "execution_count": 38,
     "metadata": {},
     "output_type": "execute_result"
    }
   ],
   "source": [
    "classification.shape"
   ]
  },
  {
   "cell_type": "code",
   "execution_count": null,
   "metadata": {},
   "outputs": [],
   "source": []
  }
 ],
 "metadata": {
  "kernelspec": {
   "display_name": "Python 3",
   "language": "python",
   "name": "python3"
  },
  "language_info": {
   "codemirror_mode": {
    "name": "ipython",
    "version": 3
   },
   "file_extension": ".py",
   "mimetype": "text/x-python",
   "name": "python",
   "nbconvert_exporter": "python",
   "pygments_lexer": "ipython3",
   "version": "3.6.5rc1"
  }
 },
 "nbformat": 4,
 "nbformat_minor": 2
}
